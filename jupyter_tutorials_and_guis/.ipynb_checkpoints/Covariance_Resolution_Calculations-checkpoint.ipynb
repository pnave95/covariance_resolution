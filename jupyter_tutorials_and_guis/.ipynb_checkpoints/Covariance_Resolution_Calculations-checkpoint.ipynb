{
 "cells": [
  {
   "cell_type": "code",
   "execution_count": 1,
   "metadata": {
    "collapsed": false
   },
   "outputs": [
    {
     "name": "stdout",
     "output_type": "stream",
     "text": [
      "/home/patrick/Master_Lenovo/Academic/ORNL Research Position (August 2016 - June 2017)/linear_Gaussian_error_propagation/covariance_resolution_method\n"
     ]
    }
   ],
   "source": [
    "# change workdir to be root directory of covariance_resolution software\n",
    "workdir = '/home/patrick/Master_Lenovo/Academic/ORNL Research Position (August 2016 - June 2017)/linear_Gaussian_error_propagation/covariance_resolution_method'\n",
    "%cd {workdir}"
   ]
  },
  {
   "cell_type": "code",
   "execution_count": 2,
   "metadata": {
    "collapsed": false
   },
   "outputs": [],
   "source": [
    "# Import necessary python modules\n",
    "import numpy as np\n",
    "from matplotlib import pyplot as plt\n",
    "\n",
    "import compute_covariance_matrix as cov_mat\n",
    "import ARCS_error_propagation as arcs\n",
    "import compute_vQ_to_HKL_basis_change_matrix as HKL_basis\n",
    "import plot_covariance_ellipse as plot_cov\n",
    "\n",
    "\n",
    "# define physical constants:\n",
    "\n",
    "# m = mass of neutron (kg)\n",
    "m = 1.674929*(10**-27)\n",
    "\n",
    "# hbar = reduced Planck's constant (J s)\n",
    "hbar = 1.0545718*(10**-34)"
   ]
  },
  {
   "cell_type": "markdown",
   "metadata": {},
   "source": [
    "First, we need to define the required instrumental parameters for our experiment:"
   ]
  },
  {
   "cell_type": "code",
   "execution_count": 3,
   "metadata": {
    "collapsed": false
   },
   "outputs": [],
   "source": [
    "# set instrument (currently, only arcs supported)\n",
    "instrument = \"arcs\"\n",
    "\n",
    "# a bit of hacking:\n",
    "# define distances (eventually, this will be done automatically)\n",
    "L12 = 18.50 - 11.83  # distance from beam monitor 1 to 2\n",
    "Lms = 13.60  # distance from moderator to sample\n",
    "Lsp = 3.45  # distance from sample to detector pixel -- this will also need to be changed eventually to take a particular values\n",
    "\n",
    "\n",
    "# incident beam energy\n",
    "Ei_meV = 100.0  # meV\n",
    "\n",
    "# set u, v sample orientation vectors\n",
    "u = [1, 0, 2]\n",
    "v = [1, 0, 0]\n",
    "\n",
    "# define uncertainties\n",
    "sigma_t12 = 10.0*10**-6\n",
    "sigma_theta = 1.5 / 360.0 * 2.0*np.pi\n",
    "sigma_phi = 1.5 / 360.0 * 2.0*np.pi\n",
    "\n",
    "var_t12 = sigma_t12**2\n",
    "var_theta = sigma_theta**2\n",
    "var_phi = sigma_phi**2\n"
   ]
  },
  {
   "cell_type": "markdown",
   "metadata": {},
   "source": [
    "Next, we need to define our sample properties"
   ]
  },
  {
   "cell_type": "code",
   "execution_count": 4,
   "metadata": {
    "collapsed": false
   },
   "outputs": [],
   "source": [
    "# lattice parameters\n",
    "a = 3.0\n",
    "b = 3.0\n",
    "c = 3.0\n",
    "\n",
    "# lattice vectors\n",
    "a1 = np.array([a, 0, 0])\n",
    "a2 = np.array([0, b, 0])\n",
    "a3 = np.array([0, 0, c])\n",
    "\n",
    "# create a list of lattice vectors\n",
    "lattice = [a1, a2, a3]\n",
    "\n",
    "# sample rotation angle\n",
    "angle = 0.0"
   ]
  },
  {
   "cell_type": "markdown",
   "metadata": {},
   "source": [
    "Extra Information:  This section will be refined later to be more user-friendly.  Right now, it is just an information dump of particular details for which point in instrument space / Q,E space / HKLE space is going to be analyzed"
   ]
  },
  {
   "cell_type": "code",
   "execution_count": 5,
   "metadata": {
    "collapsed": true
   },
   "outputs": [],
   "source": [
    "tof = 3900.9  # time-of-flight (milliseconds)\n",
    "t = tof*10**-6  # tof (in seconds)\n",
    "\n",
    "theta = 2.24506  # polar angle (relative to beam / z-direction -- radians)\n",
    "phi = -0.56543  # azimuthal angle (relative to x-direction -- radians)\n",
    "\n",
    "\n",
    "# Now, compute some additional quantities\n",
    "Ei = arcs.meV_to_joules(Ei_meV)  # Ei in Joules\n",
    "vi = arcs.vi_from_Ei(Ei)  # incident neutron speed (m/s)\n",
    "t12 = arcs.t12_from_vi(vi)  # time for travel from 1st to 2nd beam monitor\n",
    "vf = arcs.vf_from_tof_and_t12(t, t12, Lsp, Lms, L12)\n",
    "Ef = 0.5*m*vf**2"
   ]
  },
  {
   "cell_type": "markdown",
   "metadata": {},
   "source": [
    "We now need to actually compute the covariance matrix"
   ]
  },
  {
   "cell_type": "code",
   "execution_count": 6,
   "metadata": {
    "collapsed": false
   },
   "outputs": [
    {
     "name": "stdout",
     "output_type": "stream",
     "text": [
      "E_partial_t12 = -2.10129340736e-17\n",
      "\n"
     ]
    }
   ],
   "source": [
    "# get Jacobian matrix\n",
    "J = arcs.setup_jacobian(vi, vf, Ei, Ef, theta, phi, L12, Lms, Lsp, tof, t12)\n",
    "\n",
    "# get instrumental parameters matrix\n",
    "M = cov_mat.setup_params_matrix(var_t12, var_theta, var_phi)\n",
    "\n",
    "# get vQE covariance matrix\n",
    "Sigma_vQE = cov_mat.get_sigma_vQE(J, M)\n",
    "\n",
    "# get HKLE covariance matrix\n",
    "Sigma_HKLE = cov_mat.get_sigma_HKLE(Sigma_vQE, lattice, u, v, angle)\n",
    "\n",
    "# get inverse HKLE covariance matrix (for plotting)\n",
    "SigmaInv_HKLE = cov_mat.get_sigma_inv_HKLE(Sigma_HKLE)\n",
    "\n"
   ]
  },
  {
   "cell_type": "code",
   "execution_count": 7,
   "metadata": {
    "collapsed": false,
    "scrolled": false
   },
   "outputs": [
    {
     "name": "stdout",
     "output_type": "stream",
     "text": [
      "Sigma_vQE = \n",
      "\n",
      "[[  1.48796266e-02   3.27526981e-03   1.35243716e-02  -6.35191279e-15]\n",
      " [  3.27526981e-03   1.79629835e-02  -8.58175200e-03   4.03054145e-15]\n",
      " [  1.35243716e-02  -8.58175200e-03   2.21165540e-02  -5.97515208e-02]\n",
      " [ -6.35191279e-15   4.03054145e-15  -5.97515208e-02   1.72036629e+00]]\n",
      "\n",
      "Sigma_HKLE = \n",
      "\n",
      "[[  5.50751477e-03   6.76736654e-03   5.21985198e-03   1.27586683e-02]\n",
      " [  6.76736654e-03   1.79629835e-02  -6.21100715e-03   1.92444178e-15]\n",
      " [  5.21985198e-03  -6.21100715e-03   3.14886658e-02  -2.55173366e-02]\n",
      " [  5.59657818e-02   8.44154626e-15  -1.11931564e-01   1.72036629e+00]]\n"
     ]
    }
   ],
   "source": [
    "print(\"Sigma_vQE = \\n\")\n",
    "print(Sigma_vQE)\n",
    "\n",
    "print(\"\\nSigma_HKLE = \\n\")\n",
    "print(Sigma_HKLE)"
   ]
  },
  {
   "cell_type": "code",
   "execution_count": 8,
   "metadata": {
    "collapsed": false
   },
   "outputs": [],
   "source": [
    "# select two variables (from H,K,L,E) to plot: (0,1,2,3 = H,K,L,E)\n",
    "x1 = 0\n",
    "x1_title = \"\"\n",
    "x2 = 2\n",
    "x2_title = \"\"\n",
    "\n",
    "if x1 == 0:\n",
    "    x1_title = \"H-direction (A^-1)\"\n",
    "elif x1 == 1:\n",
    "    x1_title = \"K-direction (A^-1)\"\n",
    "elif x1 == 2:\n",
    "    x1_title = \"L-direction (A^-1)\"\n",
    "elif x1 == 3:\n",
    "    x1_title = \"E (meV)\"\n",
    "\n",
    "if x2 == 0:\n",
    "    x2_title = \"H-direction (A^-1)\"\n",
    "elif x2 == 1:\n",
    "    x2_title = \"K-direction (A^-1)\"\n",
    "elif x2 == 2:\n",
    "    x2_title = \"L-direction (A^-1)\"\n",
    "elif x2 == 3:\n",
    "    x2_title = \"E (meV)\"\n",
    "    \n",
    "# extract submatrix:\n",
    "A = plot_cov.get_2D_subcovariance(Sigma_vQE, x1, x2)\n",
    "\n",
    "# specify degrees of freedom and significance level\n",
    "alpha = 0.5\n",
    "k = 2\n",
    "# compute critical chi-squared value\n",
    "chi2 = plot_cov.get_critical_chi_squared(k, alpha)\n",
    "\n",
    "# plot covariance matrix:\n",
    "plot_cov.plot_quadform(A, x1, x2, chi2, x1_title, x2_title, 0)\n",
    "#plot_cov.plot_quadform_method2(A, x1, x2, x1_title, x2_title)"
   ]
  },
  {
   "cell_type": "code",
   "execution_count": null,
   "metadata": {
    "collapsed": true
   },
   "outputs": [],
   "source": []
  }
 ],
 "metadata": {
  "kernelspec": {
   "display_name": "Python 3",
   "language": "python",
   "name": "python3"
  },
  "language_info": {
   "codemirror_mode": {
    "name": "ipython",
    "version": 3
   },
   "file_extension": ".py",
   "mimetype": "text/x-python",
   "name": "python",
   "nbconvert_exporter": "python",
   "pygments_lexer": "ipython3",
   "version": "3.5.2"
  }
 },
 "nbformat": 4,
 "nbformat_minor": 0
}
