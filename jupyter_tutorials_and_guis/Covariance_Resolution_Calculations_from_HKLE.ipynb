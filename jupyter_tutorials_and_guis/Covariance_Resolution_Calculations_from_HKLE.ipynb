{
 "cells": [
  {
   "cell_type": "code",
   "execution_count": 1,
   "metadata": {
    "collapsed": false
   },
   "outputs": [
    {
     "name": "stdout",
     "output_type": "stream",
     "text": [
      "/home/patrick/Master_Lenovo/Academic/ORNL Research Position (August 2016 - June 2017)/linear_Gaussian_error_propagation/covariance_resolution_method\n"
     ]
    }
   ],
   "source": [
    "# change workdir to be root directory of covariance_resolution software\n",
    "workdir = '/home/patrick/Master_Lenovo/Academic/ORNL Research Position (August 2016 - June 2017)/linear_Gaussian_error_propagation/covariance_resolution_method'\n",
    "%cd {workdir}"
   ]
  },
  {
   "cell_type": "code",
   "execution_count": 2,
   "metadata": {
    "collapsed": false
   },
   "outputs": [],
   "source": [
    "# Import necessary python modules\n",
    "import numpy as np\n",
    "from matplotlib import pyplot as plt\n",
    "\n",
    "import compute_covariance_matrix as cov_mat\n",
    "import ARCS_error_analysis as arcs\n",
    "import compute_vQ_to_HKL_basis_change_matrix as HKL_basis\n",
    "import plot_covariance_ellipse as plot_cov\n",
    "import avg_cov_mat_across_angle_sweep as avg_cov\n",
    "\n",
    "\n",
    "# define physical constants:\n",
    "\n",
    "# m = mass of neutron (kg)\n",
    "m = 1.674929*(10**-27)\n",
    "\n",
    "# hbar = reduced Planck's constant (J s)\n",
    "hbar = 1.0545718*(10**-34)"
   ]
  },
  {
   "cell_type": "markdown",
   "metadata": {},
   "source": [
    "First, we need to define the required instrumental parameters for our experiment:"
   ]
  },
  {
   "cell_type": "code",
   "execution_count": 3,
   "metadata": {
    "collapsed": false
   },
   "outputs": [],
   "source": [
    "# set instrument (currently, only arcs supported)\n",
    "instrument = \"arcs\"\n",
    "\n",
    "# a bit of hacking:\n",
    "# define distances (eventually, this will be done automatically)\n",
    "L12 = 18.50 - 11.83  # distance from beam monitor 1 to 2\n",
    "Lms = 13.60  # distance from moderator to sample\n",
    "Lsp = 3.45  # distance from sample to detector pixel -- this will also need to be changed eventually to take a particular values\n",
    "\n",
    "\n",
    "# incident beam energy\n",
    "Ei_meV = 150.0  # meV\n",
    "\n",
    "# set u, v sample orientation vectors\n",
    "u = [1, 0, 2]\n",
    "v = [1, 0, 0]"
   ]
  },
  {
   "cell_type": "markdown",
   "metadata": {},
   "source": [
    "Next, we need to define our sample properties"
   ]
  },
  {
   "cell_type": "code",
   "execution_count": 4,
   "metadata": {
    "collapsed": false
   },
   "outputs": [],
   "source": [
    "# lattice parameters\n",
    "a = 5.0\n",
    "b = 5.0\n",
    "c = 5.0\n",
    "\n",
    "# lattice vectors\n",
    "a1 = np.array([a, 0, 0])\n",
    "a2 = np.array([0, b, 0])\n",
    "a3 = np.array([0, 0, c])\n",
    "\n",
    "# create a list of lattice vectors\n",
    "lattice = [a1, a2, a3]\n",
    "\n",
    "# sample rotation angle\n",
    "angle = -10.0"
   ]
  },
  {
   "cell_type": "markdown",
   "metadata": {},
   "source": [
    "Now, we will take a specified point in HKLE space as our input, then compute the corresponding instrument coordinates"
   ]
  },
  {
   "cell_type": "code",
   "execution_count": 5,
   "metadata": {
    "collapsed": false
   },
   "outputs": [
    {
     "name": "stdout",
     "output_type": "stream",
     "text": [
      "[2.0056175929690125, 0.8941187540888198, 0.0012451112614357287, 0.0032143723466888309]\n"
     ]
    }
   ],
   "source": [
    "# specify HKLE point:\n",
    "HK = 1.5\n",
    "H = np.sqrt(HK**2 / 2.0)\n",
    "K = H\n",
    "L = 0.0\n",
    "E = 13.7 # meV\n",
    "\n",
    "# specify this as a linear combination for plotting purposes:\n",
    "x = np.array([H, K, L, 0.0])\n",
    "#x = np.array([1.2, 3.4, 0.4, 0.0])\n",
    "#x = np.array([1.0, 0.0, 0.0, 0.0])\n",
    "\n",
    "# now, convert to real units (inverse angstroms)\n",
    "h = H * 2*np.pi / a\n",
    "k = K * 2*np.pi / b\n",
    "l = L * 2*np.pi / c\n",
    "\n",
    "# make array of hklE values\n",
    "HKLE = np.array([h, k, l, E])\n",
    "\n",
    "# compute instrument coordinates\n",
    "instr_coords = avg_cov.HKLE_to_instrumentCoords(lattice, u, v, angle, HKLE, Ei_meV, L12, Lms, Lsp)\n",
    "\n",
    "print (instr_coords)\n",
    "\n"
   ]
  },
  {
   "cell_type": "markdown",
   "metadata": {},
   "source": [
    "Extra Information:  This section will be refined later to be more user-friendly.  Right now, it is just an information dump of particular details for which point in instrument space / Q,E space / HKLE space is going to be analyzed"
   ]
  },
  {
   "cell_type": "code",
   "execution_count": 6,
   "metadata": {
    "collapsed": false
   },
   "outputs": [
    {
     "name": "stdout",
     "output_type": "stream",
     "text": [
      "0.00321437234669\n"
     ]
    }
   ],
   "source": [
    "theta = instr_coords[0]\n",
    "phi = instr_coords[1]\n",
    "t = instr_coords[3]\n",
    "\n",
    "print(t)"
   ]
  },
  {
   "cell_type": "markdown",
   "metadata": {},
   "source": [
    "We now need to actually compute the covariance matrix"
   ]
  },
  {
   "cell_type": "code",
   "execution_count": 7,
   "metadata": {
    "collapsed": false
   },
   "outputs": [
    {
     "name": "stdout",
     "output_type": "stream",
     "text": [
      "t12 = 0.00124511126144\n",
      "E_partial_t12 = -1.52002965559e-16\n",
      "\n"
     ]
    }
   ],
   "source": [
    "# get Jacobian matrix\n",
    "#J = arcs.setup_jacobian(vi, vf, Ei, Ef, theta, phi, L12, Lms, Lsp, tof, t12)\n",
    "#J = arcs.setup_jacobian(vi, vf, Ei, Ef, theta, phi, t, t12)\n",
    "\n",
    "# get instrumental parameters matrix\n",
    "#M = cov_mat.setup_params_matrix(var_t12, var_theta, var_phi)\n",
    "JM = arcs.get_jacobian_and_params_matrices_from_event_data(t, theta, phi, Ei_meV)\n",
    "J = JM[0]\n",
    "M = JM[1]\n",
    "\n",
    "# get vQE covariance matrix\n",
    "Sigma_vQE = cov_mat.get_sigma_vQE(J, M)\n",
    "SigmaInv_vQE = cov_mat.get_sigma_inv_vQE(J, M)\n",
    "\n",
    "# get HKLE covariance matrix\n",
    "Sigma_HKLE = cov_mat.get_sigma_HKLE(Sigma_vQE, lattice, u, v, angle)\n",
    "\n",
    "# get inverse HKLE covariance matrix (for plotting)\n",
    "SigmaInv_HKLE = cov_mat.get_sigma_inv_HKLE(Sigma_HKLE)\n",
    "\n",
    "Reduced_Sigma = cov_mat.get_2D_sliced_covariance(Sigma_HKLE, x)\n",
    "Reduced_SigmaInv = cov_mat.get_2D_sigma_inv(Reduced_Sigma)"
   ]
  },
  {
   "cell_type": "code",
   "execution_count": 8,
   "metadata": {
    "collapsed": false,
    "scrolled": false
   },
   "outputs": [
    {
     "name": "stdout",
     "output_type": "stream",
     "text": [
      "Sigma_vQE = \n",
      "\n",
      "[[  7.91923984e-04  -1.17397214e-04   1.25544406e-04  -9.78568999e-03]\n",
      " [ -1.17397214e-04   7.40049870e-04   1.56308983e-04  -1.21836671e-02]\n",
      " [  1.25544406e-04   1.56308983e-04   1.27611768e-03  -3.32632706e-02]\n",
      " [ -9.78568999e-03  -1.21836671e-02  -3.32632706e-02   6.16362342e+00]]\n",
      "\n",
      "Sigma_HKLE = \n",
      "\n",
      "[[  8.43622706e-04  -1.87409955e-04  -1.95245576e-04   9.51461388e-03]\n",
      " [ -1.87409955e-04   7.40049870e-04   5.56067686e-05  -9.69545421e-03]\n",
      " [ -1.95245576e-04   5.56067686e-05   1.22441896e-03  -2.58993681e-02]\n",
      " [  1.50248760e-02  -1.53104476e-02  -4.08986428e-02   6.16362342e+00]]\n",
      "\n",
      "Reduced_Sigma = \n",
      "\n",
      "[[  6.04426333e-04  -1.27873422e-04]\n",
      " [ -2.01929614e-04   6.16362342e+00]]\n"
     ]
    }
   ],
   "source": [
    "print(\"Sigma_vQE = \\n\")\n",
    "print(Sigma_vQE)\n",
    "\n",
    "print(\"\\nSigma_HKLE = \\n\")\n",
    "print(Sigma_HKLE)\n",
    "\n",
    "print(\"\\nReduced_Sigma = \\n\")\n",
    "print(Reduced_Sigma)"
   ]
  },
  {
   "cell_type": "code",
   "execution_count": 9,
   "metadata": {
    "collapsed": false
   },
   "outputs": [],
   "source": [
    "# select two variables (from H,K,L,E) to plot: (0,1,2,3 = H,K,L,E)\n",
    "x1 = 0\n",
    "x1_title = \"\"\n",
    "x2 = 3\n",
    "x2_title = \"\"\n",
    "\n",
    "if x1 == 0:\n",
    "    x1_title = \"H-direction (A^-1)\"\n",
    "elif x1 == 1:\n",
    "    x1_title = \"K-direction (A^-1)\"\n",
    "elif x1 == 2:\n",
    "    x1_title = \"L-direction (A^-1)\"\n",
    "elif x1 == 3:\n",
    "    x1_title = \"E (meV)\"\n",
    "\n",
    "if x2 == 0:\n",
    "    x2_title = \"H-direction (A^-1)\"\n",
    "elif x2 == 1:\n",
    "    x2_title = \"K-direction (A^-1)\"\n",
    "elif x2 == 2:\n",
    "    x2_title = \"L-direction (A^-1)\"\n",
    "elif x2 == 3:\n",
    "    x2_title = \"E (meV)\"\n",
    "    \n",
    "# extract submatrix:\n",
    "A = plot_cov.get_2D_subcovariance(SigmaInv_vQE, x1, x2)\n",
    "\n",
    "# specify degrees of freedom and significance level\n",
    "alpha = 0.5\n",
    "k = 2\n",
    "# compute critical chi-squared value\n",
    "chi2 = plot_cov.get_critical_chi_squared(k, alpha)\n",
    "\n",
    "# plot covariance matrix:\n",
    "#plot_cov.plot_quadform(A, x1, x2, chi2, x1_title, x2_title, 0)\n",
    "plot_cov.plot_quadform(Reduced_Sigma, x1, x2, chi2, x1_title, x2_title, 0)\n",
    "#plot_cov.plot_quadform_method2(A, x1, x2, chi2, x1_title, x2_title)"
   ]
  },
  {
   "cell_type": "code",
   "execution_count": null,
   "metadata": {
    "collapsed": true
   },
   "outputs": [],
   "source": []
  }
 ],
 "metadata": {
  "kernelspec": {
   "display_name": "Python 3",
   "language": "python",
   "name": "python3"
  },
  "language_info": {
   "codemirror_mode": {
    "name": "ipython",
    "version": 3
   },
   "file_extension": ".py",
   "mimetype": "text/x-python",
   "name": "python",
   "nbconvert_exporter": "python",
   "pygments_lexer": "ipython3",
   "version": "3.5.2"
  }
 },
 "nbformat": 4,
 "nbformat_minor": 0
}
